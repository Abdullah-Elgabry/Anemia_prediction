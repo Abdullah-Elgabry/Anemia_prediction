{
 "cells": [
  {
   "cell_type": "code",
   "execution_count": 2,
   "id": "f53a1afe",
   "metadata": {},
   "outputs": [
    {
     "name": "stderr",
     "output_type": "stream",
     "text": [
      "/Users/macos/opt/anaconda3/lib/python3.9/site-packages/sklearn/utils/validation.py:993: DataConversionWarning: A column-vector y was passed when a 1d array was expected. Please change the shape of y to (n_samples, ), for example using ravel().\n",
      "  y = column_or_1d(y, warn=True)\n"
     ]
    },
    {
     "ename": "ValueError",
     "evalue": "could not convert string to float: ''",
     "output_type": "error",
     "traceback": [
      "\u001b[0;31m---------------------------------------------------------------------------\u001b[0m",
      "\u001b[0;31mValueError\u001b[0m                                Traceback (most recent call last)",
      "\u001b[1;32m/Users/macos/Desktop/test/project/anemia.ipynb Cell 1\u001b[0m in \u001b[0;36m<cell line: 33>\u001b[0;34m()\u001b[0m\n\u001b[1;32m     <a href='vscode-notebook-cell:/Users/macos/Desktop/test/project/anemia.ipynb#W0sZmlsZQ%3D%3D?line=28'>29</a>\u001b[0m model \u001b[39m=\u001b[39m pd\u001b[39m.\u001b[39mread_pickle(\u001b[39m'\u001b[39m\u001b[39m/Users/macos/Desktop/test/project/new_model.pickle\u001b[39m\u001b[39m'\u001b[39m) \n\u001b[1;32m     <a href='vscode-notebook-cell:/Users/macos/Desktop/test/project/anemia.ipynb#W0sZmlsZQ%3D%3D?line=29'>30</a>\u001b[0m \u001b[39m# read a pickle pd.read_pickle('model.pkl')\u001b[39;00m\n\u001b[1;32m     <a href='vscode-notebook-cell:/Users/macos/Desktop/test/project/anemia.ipynb#W0sZmlsZQ%3D%3D?line=30'>31</a>\u001b[0m \n\u001b[1;32m     <a href='vscode-notebook-cell:/Users/macos/Desktop/test/project/anemia.ipynb#W0sZmlsZQ%3D%3D?line=31'>32</a>\u001b[0m \u001b[39m# Take input from user\u001b[39;00m\n\u001b[0;32m---> <a href='vscode-notebook-cell:/Users/macos/Desktop/test/project/anemia.ipynb#W0sZmlsZQ%3D%3D?line=32'>33</a>\u001b[0m Gender \u001b[39m=\u001b[39m \u001b[39mfloat\u001b[39;49m(\u001b[39minput\u001b[39;49m(\u001b[39m\"\u001b[39;49m\u001b[39mEnter Gender : \u001b[39;49m\u001b[39m\"\u001b[39;49m))\n\u001b[1;32m     <a href='vscode-notebook-cell:/Users/macos/Desktop/test/project/anemia.ipynb#W0sZmlsZQ%3D%3D?line=33'>34</a>\u001b[0m Hemoglobin \u001b[39m=\u001b[39m \u001b[39mfloat\u001b[39m(\u001b[39minput\u001b[39m(\u001b[39m\"\u001b[39m\u001b[39mEnter Hemoglobin: \u001b[39m\u001b[39m\"\u001b[39m))\n\u001b[1;32m     <a href='vscode-notebook-cell:/Users/macos/Desktop/test/project/anemia.ipynb#W0sZmlsZQ%3D%3D?line=34'>35</a>\u001b[0m MCH \u001b[39m=\u001b[39m \u001b[39mfloat\u001b[39m(\u001b[39minput\u001b[39m(\u001b[39m\"\u001b[39m\u001b[39mEnter MCH :\u001b[39m\u001b[39m\"\u001b[39m))\n",
      "\u001b[0;31mValueError\u001b[0m: could not convert string to float: ''"
     ]
    }
   ],
   "source": [
    "# Load modules\n",
    "from pandas import read_csv\n",
    "from sklearn.model_selection import train_test_split\n",
    "from sklearn.svm import SVC\n",
    "import pandas as pd\n",
    "\n",
    "# Load dataset\n",
    "df = pd.read_csv(r\"/Users/macos/Desktop/test/project/anemia.csv\")\n",
    "\n",
    "headers=[\"Gender\",\"Hemoglobin\",\"MCH\",\"MCHC\",\"MCV\",\"prediction\"]\n",
    "df.columns=headers\n",
    "x=df[[\"Gender\",\"Hemoglobin\",\"MCH\",\"MCHC\",\"MCV\"]]\n",
    "y=df[[\"prediction\"]]\n",
    "\n",
    "x_train,x_test,y_train,y_test = train_test_split(x,y,test_size=0.30,random_state=42)\n",
    "\n",
    "# Now we’ll fit the model on the training data\n",
    "model = SVC(gamma='auto')\n",
    "model.fit(x_train, y_train)\n",
    "\n",
    "# Make predictions on validation dataset\n",
    "predictions = model.predict(x_test)\n",
    "\n",
    "\n",
    "# Pickle model \n",
    "pd.to_pickle(model,r'/Users/macos/Desktop/test/project/new_model.pickle')\n",
    "\n",
    "# Unpickle model \n",
    "model = pd.read_pickle(r'/Users/macos/Desktop/test/project/new_model.pickle') \n",
    "# read a pickle pd.read_pickle('model.pkl')\n",
    "\n",
    "# Take input from user\n",
    "Gender = float(input(\"Enter Gender : \"))\n",
    "Hemoglobin = float(input(\"Enter Hemoglobin: \"))\n",
    "MCH = float(input(\"Enter MCH :\"))\n",
    "MCHC = float(input(\"Enter MCHC: \"))\n",
    "MCV = float(input(\"Enter MCV: \"))\n",
    "\n",
    "\n",
    "result = model.predict([[Gender,Hemoglobin,MCH,MCHC,MCV]])\n",
    "print(result)"
   ]
  },
  {
   "cell_type": "code",
   "execution_count": null,
   "id": "4babce1e",
   "metadata": {},
   "outputs": [],
   "source": []
  }
 ],
 "metadata": {
  "kernelspec": {
   "display_name": "Python 3.9.12 ('base')",
   "language": "python",
   "name": "python3"
  },
  "language_info": {
   "codemirror_mode": {
    "name": "ipython",
    "version": 3
   },
   "file_extension": ".py",
   "mimetype": "text/x-python",
   "name": "python",
   "nbconvert_exporter": "python",
   "pygments_lexer": "ipython3",
   "version": "3.9.12"
  },
  "vscode": {
   "interpreter": {
    "hash": "05cf0627bab4771c41fe164636fe1b5a9ea818fdb159da9da5cfcb8c946335c2"
   }
  }
 },
 "nbformat": 4,
 "nbformat_minor": 5
}
